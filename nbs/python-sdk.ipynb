{
 "cells": [
  {
   "cell_type": "markdown",
   "metadata": {},
   "source": [
    "# `kipoi` python-sdk"
   ]
  },
  {
   "cell_type": "code",
   "execution_count": null,
   "metadata": {
    "collapsed": true
   },
   "outputs": [],
   "source": []
  },
  {
   "cell_type": "code",
   "execution_count": 1,
   "metadata": {
    "collapsed": false
   },
   "outputs": [
    {
     "name": "stderr",
     "output_type": "stream",
     "text": [
      "Using TensorFlow backend.\n"
     ]
    }
   ],
   "source": [
    "import keras # somehow needs to be loaded before kipoi?\n",
    "# If I don't do it, I get a segfault..."
   ]
  },
  {
   "cell_type": "code",
   "execution_count": 2,
   "metadata": {
    "collapsed": true
   },
   "outputs": [],
   "source": [
    "import warnings\n",
    "warnings.filterwarnings('ignore')"
   ]
  },
  {
   "cell_type": "code",
   "execution_count": 3,
   "metadata": {
    "collapsed": false
   },
   "outputs": [],
   "source": [
    "import kipoi"
   ]
  },
  {
   "cell_type": "markdown",
   "metadata": {},
   "source": [
    "## Load the model"
   ]
  },
  {
   "cell_type": "code",
   "execution_count": 4,
   "metadata": {
    "collapsed": true
   },
   "outputs": [],
   "source": [
    "model_dir = \"../examples/extended_coda/\""
   ]
  },
  {
   "cell_type": "code",
   "execution_count": 5,
   "metadata": {
    "collapsed": false
   },
   "outputs": [
    {
     "name": "stderr",
     "output_type": "stream",
     "text": [
      "INFO:2017-09-01 14:01:59,449:kipoi] successfully loaded model architecture from ../examples/extended_coda/model.json\n",
      "INFO:2017-09-01 14:01:59,470:kipoi] successfully loaded model weights from ../examples/extended_coda/weights.h5\n"
     ]
    }
   ],
   "source": [
    "model = kipoi.load_model(model_dir)"
   ]
  },
  {
   "cell_type": "code",
   "execution_count": 6,
   "metadata": {
    "collapsed": false
   },
   "outputs": [
    {
     "name": "stdout",
     "output_type": "stream",
     "text": [
      "Model instance\n",
      "\n",
      "        # Methods\n",
      "          predict_on_batch(x)\n",
      "\n",
      "        # model.yaml\n",
      "\n",
      "            author: Johnny Israeli\n",
      "        name: extended CODA\n",
      "        version: 0.1\n",
      "        description: Single bp resolution ChIP-seq denoising\n",
      "        model:\n",
      "            type: keras\n",
      "            args:\n",
      "                weights: weights.h5\n",
      "                arch: model.json\n",
      "            inputs:\n",
      "                H3K27ac_subsampled:\n",
      "                    type: bigwig\n",
      "            targets:\n",
      "                H3K27ac:\n",
      "                    type: bigwig\n",
      "\n",
      "        \n"
     ]
    }
   ],
   "source": [
    "print(model.__doc__)"
   ]
  },
  {
   "cell_type": "code",
   "execution_count": 7,
   "metadata": {
    "collapsed": false
   },
   "outputs": [
    {
     "data": {
      "text/plain": [
       "<keras.engine.training.Model at 0x7f5832aa4c88>"
      ]
     },
     "execution_count": 7,
     "metadata": {},
     "output_type": "execute_result"
    }
   ],
   "source": [
    "model.model"
   ]
  },
  {
   "cell_type": "markdown",
   "metadata": {},
   "source": [
    "## Load the extractor"
   ]
  },
  {
   "cell_type": "code",
   "execution_count": 8,
   "metadata": {
    "collapsed": false
   },
   "outputs": [
    {
     "name": "stderr",
     "output_type": "stream",
     "text": [
      "INFO:2017-09-01 14:02:01,167:kipoi] successfully imported CodaDataset from extractor.py\n"
     ]
    }
   ],
   "source": [
    "Extractor = kipoi.load_extractor(model_dir)"
   ]
  },
  {
   "cell_type": "code",
   "execution_count": 9,
   "metadata": {
    "collapsed": false
   },
   "outputs": [
    {
     "name": "stdout",
     "output_type": "stream",
     "text": [
      "Model instance\n",
      "\n",
      "        # Methods\n",
      "            - .__getitem__(idx) - Get items via subsetting obj.[idx]\n",
      "            - .__len__() - Get the length - len(obj)\n",
      "\n",
      "        # extractor.yaml\n",
      "\n",
      "            author: Johnny Israeli\n",
      "        name: extended CODA\n",
      "        version: 0.1\n",
      "        description: Preprocessor for single bp resolution ChIP-seq denoising\n",
      "        extractor:\n",
      "            type: Dataset\n",
      "            defined_as: CodaDataset\n",
      "            arguments:\n",
      "                intervals_file: \"string; tsv file with `chrom start end`\"\n",
      "                input_data_sources: \"dict; {data_name: <path to genomelake directory>}\"\n",
      "                target_data_sources: \"dict, optional; {data_name: <path to genomelake directory>}\"\n",
      "            output:\n",
      "                H3K27ac_subsampled:\n",
      "                    type: bigwig\n",
      "                    provide_ranges: True\n",
      "                metadata:\n",
      "                    type: dict\n",
      "                    ranges:\n",
      "                        chrom:\n",
      "                            type:str\n",
      "                        start:\n",
      "                            type:int\n",
      "                        end:\n",
      "                            type:int\n",
      "                        id:\n",
      "                            type:str\n",
      "        \n",
      "\n",
      "        \n"
     ]
    }
   ],
   "source": [
    "print(Extractor.__doc__)"
   ]
  },
  {
   "cell_type": "markdown",
   "metadata": {},
   "source": [
    "## Run the pipeline for some test examples"
   ]
  },
  {
   "cell_type": "code",
   "execution_count": 10,
   "metadata": {
    "collapsed": false
   },
   "outputs": [
    {
     "name": "stdout",
     "output_type": "stream",
     "text": [
      "/data/nasif12/home_if12/avsec/projects-work/kipoi/examples/extended_coda/test_files\n"
     ]
    }
   ],
   "source": [
    "cd $model_dir/test_files"
   ]
  },
  {
   "cell_type": "code",
   "execution_count": 11,
   "metadata": {
    "collapsed": false
   },
   "outputs": [],
   "source": [
    "# example arguments\n",
    "import yaml\n",
    "with open(\"test.json\", \"r\") as f:\n",
    "    test_kwargs=yaml.load(f)"
   ]
  },
  {
   "cell_type": "code",
   "execution_count": 12,
   "metadata": {
    "collapsed": false
   },
   "outputs": [
    {
     "data": {
      "text/plain": [
       "{'input_data_sources': {'H3K27AC_subsampled': 'H3K27AC_subsampled.bw'},\n",
       " 'intervals_file': 'intervals.tsv'}"
      ]
     },
     "execution_count": 12,
     "metadata": {},
     "output_type": "execute_result"
    }
   ],
   "source": [
    "test_kwargs"
   ]
  },
  {
   "cell_type": "code",
   "execution_count": 13,
   "metadata": {
    "collapsed": false
   },
   "outputs": [],
   "source": [
    "ext = Extractor(**test_kwargs)"
   ]
  },
  {
   "cell_type": "code",
   "execution_count": 14,
   "metadata": {
    "collapsed": false,
    "scrolled": true
   },
   "outputs": [
    {
     "data": {
      "text/plain": [
       "{'inputs': {'H3K27AC_subsampled': array([[ 4.1371],\n",
       "         [ 4.1371],\n",
       "         [ 4.1371],\n",
       "         ..., \n",
       "         [ 0.3026],\n",
       "         [ 0.3026],\n",
       "         [ 0.3026]], dtype=float32)},\n",
       " 'metadata': {'chrom': 'chr22', 'end': 29492188, 'id': '1', 'start': 29467163}}"
      ]
     },
     "execution_count": 14,
     "metadata": {},
     "output_type": "execute_result"
    }
   ],
   "source": [
    "ext[0]"
   ]
  },
  {
   "cell_type": "code",
   "execution_count": 15,
   "metadata": {
    "collapsed": false
   },
   "outputs": [
    {
     "data": {
      "text/plain": [
       "127"
      ]
     },
     "execution_count": 15,
     "metadata": {},
     "output_type": "execute_result"
    }
   ],
   "source": [
    "len(ext)"
   ]
  },
  {
   "cell_type": "code",
   "execution_count": 16,
   "metadata": {
    "collapsed": true
   },
   "outputs": [],
   "source": [
    "# run the predictions on the whole dataset\n",
    "from torch.utils.data import DataLoader\n",
    "from kipoi.data import numpy_collate"
   ]
  },
  {
   "cell_type": "code",
   "execution_count": 17,
   "metadata": {
    "collapsed": true
   },
   "outputs": [],
   "source": [
    "dloader = DataLoader(ext, batch_size=32, collate_fn=numpy_collate)"
   ]
  },
  {
   "cell_type": "code",
   "execution_count": 18,
   "metadata": {
    "collapsed": false
   },
   "outputs": [],
   "source": [
    "it = iter(dloader)"
   ]
  },
  {
   "cell_type": "code",
   "execution_count": 19,
   "metadata": {
    "collapsed": false
   },
   "outputs": [],
   "source": [
    "batch = next(it)"
   ]
  },
  {
   "cell_type": "code",
   "execution_count": 20,
   "metadata": {
    "collapsed": false,
    "scrolled": true
   },
   "outputs": [
    {
     "data": {
      "text/plain": [
       "{'inputs': {'H3K27AC_subsampled': array([[[  4.1371],\n",
       "          [  4.1371],\n",
       "          [  4.1371],\n",
       "          ..., \n",
       "          [  0.3026],\n",
       "          [  0.3026],\n",
       "          [  0.3026]],\n",
       "  \n",
       "         [[  4.2852],\n",
       "          [  4.2852],\n",
       "          [  4.2852],\n",
       "          ..., \n",
       "          [  0.3282],\n",
       "          [  0.3282],\n",
       "          [  0.3282]],\n",
       "  \n",
       "         [[  4.2451],\n",
       "          [  4.2451],\n",
       "          [  4.2451],\n",
       "          ..., \n",
       "          [  0.3706],\n",
       "          [  0.3706],\n",
       "          [  0.3706]],\n",
       "  \n",
       "         ..., \n",
       "         [[  0.0021],\n",
       "          [  0.0021],\n",
       "          [  0.0021],\n",
       "          ..., \n",
       "          [ 28.3524],\n",
       "          [ 28.3524],\n",
       "          [ 28.3524]],\n",
       "  \n",
       "         [[  0.0312],\n",
       "          [  0.0312],\n",
       "          [  0.0312],\n",
       "          ..., \n",
       "          [ 27.8853],\n",
       "          [ 27.8853],\n",
       "          [ 27.8853]],\n",
       "  \n",
       "         [[  0.0276],\n",
       "          [  0.0276],\n",
       "          [  0.0276],\n",
       "          ..., \n",
       "          [ 27.1714],\n",
       "          [ 27.1714],\n",
       "          [ 27.1714]]], dtype=float32)},\n",
       " 'metadata': {'chrom': ['chr22',\n",
       "   'chr22',\n",
       "   'chr22',\n",
       "   'chr22',\n",
       "   'chr22',\n",
       "   'chr22',\n",
       "   'chr22',\n",
       "   'chr22',\n",
       "   'chr22',\n",
       "   'chr22',\n",
       "   'chr22',\n",
       "   'chr22',\n",
       "   'chr22',\n",
       "   'chr22',\n",
       "   'chr22',\n",
       "   'chr22',\n",
       "   'chr22',\n",
       "   'chr22',\n",
       "   'chr22',\n",
       "   'chr22',\n",
       "   'chr22',\n",
       "   'chr22',\n",
       "   'chr22',\n",
       "   'chr22',\n",
       "   'chr22',\n",
       "   'chr22',\n",
       "   'chr22',\n",
       "   'chr22',\n",
       "   'chr22',\n",
       "   'chr22',\n",
       "   'chr22',\n",
       "   'chr22'],\n",
       "  'end': array([29492188, 29492213, 29492238, 29492263, 29492288, 29492313, 29492338, 29492363, 29492388,\n",
       "         29492413, 29492438, 29492463, 29492488, 29492513, 29492538, 29492563, 29492588, 29492613,\n",
       "         29492638, 29563142, 29563167, 29563192, 29563217, 29563242, 29563267, 29563292, 29563317,\n",
       "         29563342, 29563367, 29563392, 29563417, 29563442]),\n",
       "  'id': ['1',\n",
       "   '2',\n",
       "   '3',\n",
       "   '4',\n",
       "   '5',\n",
       "   '6',\n",
       "   '7',\n",
       "   '8',\n",
       "   '9',\n",
       "   '10',\n",
       "   '11',\n",
       "   '12',\n",
       "   '13',\n",
       "   '14',\n",
       "   '15',\n",
       "   '16',\n",
       "   '17',\n",
       "   '18',\n",
       "   '19',\n",
       "   '1',\n",
       "   '2',\n",
       "   '3',\n",
       "   '4',\n",
       "   '5',\n",
       "   '6',\n",
       "   '7',\n",
       "   '8',\n",
       "   '9',\n",
       "   '10',\n",
       "   '11',\n",
       "   '12',\n",
       "   '13'],\n",
       "  'start': array([29467163, 29467188, 29467213, 29467238, 29467263, 29467288, 29467313, 29467338, 29467363,\n",
       "         29467388, 29467413, 29467438, 29467463, 29467488, 29467513, 29467538, 29467563, 29467588,\n",
       "         29467613, 29538117, 29538142, 29538167, 29538192, 29538217, 29538242, 29538267, 29538292,\n",
       "         29538317, 29538342, 29538367, 29538392, 29538417])}}"
      ]
     },
     "execution_count": 20,
     "metadata": {},
     "output_type": "execute_result"
    }
   ],
   "source": [
    "batch"
   ]
  },
  {
   "cell_type": "code",
   "execution_count": 21,
   "metadata": {
    "collapsed": false,
    "scrolled": true
   },
   "outputs": [
    {
     "data": {
      "text/plain": [
       "array([[[  5.9986],\n",
       "        [  9.1787],\n",
       "        [ 10.9781],\n",
       "        ..., \n",
       "        [  0.4445],\n",
       "        [  0.4149],\n",
       "        [  0.414 ]],\n",
       "\n",
       "       [[  6.0444],\n",
       "        [  9.3397],\n",
       "        [ 11.2766],\n",
       "        ..., \n",
       "        [  0.5161],\n",
       "        [  0.4716],\n",
       "        [  0.4944]],\n",
       "\n",
       "       [[  6.1058],\n",
       "        [  9.3714],\n",
       "        [ 11.2273],\n",
       "        ..., \n",
       "        [  0.5636],\n",
       "        [  0.5195],\n",
       "        [  0.5388]],\n",
       "\n",
       "       ..., \n",
       "       [[  0.0788],\n",
       "        [  0.0973],\n",
       "        [  0.1109],\n",
       "        ..., \n",
       "        [ 43.1456],\n",
       "        [ 39.2124],\n",
       "        [ 40.7182]],\n",
       "\n",
       "       [[  0.0847],\n",
       "        [  0.1074],\n",
       "        [  0.1317],\n",
       "        ..., \n",
       "        [ 42.4621],\n",
       "        [ 38.581 ],\n",
       "        [ 40.2093]],\n",
       "\n",
       "       [[  0.1034],\n",
       "        [  0.1377],\n",
       "        [  0.1754],\n",
       "        ..., \n",
       "        [ 41.3534],\n",
       "        [ 37.5824],\n",
       "        [ 39.0459]]], dtype=float32)"
      ]
     },
     "execution_count": 21,
     "metadata": {},
     "output_type": "execute_result"
    }
   ],
   "source": [
    "model.predict_on_batch(batch[\"inputs\"])"
   ]
  },
  {
   "cell_type": "markdown",
   "metadata": {},
   "source": [
    "## Run all at once"
   ]
  },
  {
   "cell_type": "code",
   "execution_count": 22,
   "metadata": {
    "collapsed": true
   },
   "outputs": [],
   "source": [
    "from kipoi.pipeline import ModelExtractor"
   ]
  },
  {
   "cell_type": "code",
   "execution_count": 23,
   "metadata": {
    "collapsed": false
   },
   "outputs": [
    {
     "name": "stderr",
     "output_type": "stream",
     "text": [
      "INFO:2017-09-01 14:02:15,029:kipoi] successfully loaded model architecture from ../model.json\n",
      "INFO:2017-09-01 14:02:15,048:kipoi] successfully loaded model weights from ../weights.h5\n",
      "INFO:2017-09-01 14:02:15,052:kipoi] successfully imported CodaDataset from extractor.py\n"
     ]
    }
   ],
   "source": [
    "me = ModelExtractor(model_dir=\"../\")"
   ]
  },
  {
   "cell_type": "code",
   "execution_count": 24,
   "metadata": {
    "collapsed": false
   },
   "outputs": [
    {
     "name": "stderr",
     "output_type": "stream",
     "text": [
      "INFO:2017-09-01 14:02:15,891:kipoi] Initialized data generator. Running batches...\n",
      "4it [00:08,  2.16s/it]\n"
     ]
    }
   ],
   "source": [
    "pred = me.predict(test_kwargs)"
   ]
  },
  {
   "cell_type": "code",
   "execution_count": 25,
   "metadata": {
    "collapsed": false
   },
   "outputs": [
    {
     "data": {
      "text/plain": [
       "array([[[  5.9986],\n",
       "        [  9.1787],\n",
       "        [ 10.9781],\n",
       "        [ 10.0724],\n",
       "        [ 10.3762]],\n",
       "\n",
       "       [[  6.0444],\n",
       "        [  9.3397],\n",
       "        [ 11.2766],\n",
       "        [ 10.273 ],\n",
       "        [ 10.5634]],\n",
       "\n",
       "       [[  6.1058],\n",
       "        [  9.3714],\n",
       "        [ 11.2273],\n",
       "        [ 10.2716],\n",
       "        [ 10.6129]],\n",
       "\n",
       "       [[  6.4618],\n",
       "        [  9.8299],\n",
       "        [ 11.622 ],\n",
       "        [ 10.6543],\n",
       "        [ 11.15  ]],\n",
       "\n",
       "       [[  7.1046],\n",
       "        [ 10.7682],\n",
       "        [ 12.6426],\n",
       "        [ 11.6129],\n",
       "        [ 12.1911]]], dtype=float32)"
      ]
     },
     "execution_count": 25,
     "metadata": {},
     "output_type": "execute_result"
    }
   ],
   "source": [
    "pred[:5,:5]"
   ]
  },
  {
   "cell_type": "code",
   "execution_count": 26,
   "metadata": {
    "collapsed": false
   },
   "outputs": [
    {
     "data": {
      "text/plain": [
       "(127, 25025, 1)"
      ]
     },
     "execution_count": 26,
     "metadata": {},
     "output_type": "execute_result"
    }
   ],
   "source": [
    "pred.shape"
   ]
  }
 ],
 "metadata": {
  "anaconda-cloud": {},
  "kernelspec": {
   "display_name": "Python [default]",
   "language": "python",
   "name": "python3"
  },
  "language_info": {
   "codemirror_mode": {
    "name": "ipython",
    "version": 3
   },
   "file_extension": ".py",
   "mimetype": "text/x-python",
   "name": "python",
   "nbconvert_exporter": "python",
   "pygments_lexer": "ipython3",
   "version": "3.5.2"
  }
 },
 "nbformat": 4,
 "nbformat_minor": 2
}
